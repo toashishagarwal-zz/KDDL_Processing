{
 "cells": [
  {
   "cell_type": "code",
   "execution_count": 1,
   "metadata": {
    "collapsed": true
   },
   "outputs": [],
   "source": [
    "\n",
    "from pyspark import SparkContext, SparkConf\n",
    "import urllib\n",
    "\n",
    "f = urllib.urlretrieve(\"http://kdd.ics.uci.edu/databases/kddcup99/kddcup.data_10_percent.gz\", \"kddcup.data_10_percent.gz\")"
   ]
  },
  {
   "cell_type": "code",
   "execution_count": 2,
   "metadata": {
    "collapsed": true
   },
   "outputs": [],
   "source": [
    "# prepare the RDD\n",
    "data_file = \"./kddcup.data_10_percent.gz\"\n",
    "\n",
    "conf = SparkConf().setAppName(\"KDD_KeyValuePairs\")\n",
    "sc = SparkContext(conf=conf)\n",
    "\n",
    "raw_data = sc.textFile(data_file)"
   ]
  },
  {
   "cell_type": "code",
   "execution_count": 3,
   "metadata": {
    "collapsed": true
   },
   "outputs": [],
   "source": [
    "# Parse each interaction as a CSV row representing the value, and put together with its corresponding tag as a key\n",
    "csv = raw_data.map(lambda x: x.split(','))\n",
    "key_value = csv.map(lambda x : (x[41], x))  # x[41] is the tag field"
   ]
  },
  {
   "cell_type": "code",
   "execution_count": 5,
   "metadata": {
    "collapsed": false
   },
   "outputs": [
    {
     "data": {
      "text/plain": [
       "[(u'normal.',\n",
       "  [u'0',\n",
       "   u'tcp',\n",
       "   u'http',\n",
       "   u'SF',\n",
       "   u'181',\n",
       "   u'5450',\n",
       "   u'0',\n",
       "   u'0',\n",
       "   u'0',\n",
       "   u'0',\n",
       "   u'0',\n",
       "   u'1',\n",
       "   u'0',\n",
       "   u'0',\n",
       "   u'0',\n",
       "   u'0',\n",
       "   u'0',\n",
       "   u'0',\n",
       "   u'0',\n",
       "   u'0',\n",
       "   u'0',\n",
       "   u'0',\n",
       "   u'8',\n",
       "   u'8',\n",
       "   u'0.00',\n",
       "   u'0.00',\n",
       "   u'0.00',\n",
       "   u'0.00',\n",
       "   u'1.00',\n",
       "   u'0.00',\n",
       "   u'0.00',\n",
       "   u'9',\n",
       "   u'9',\n",
       "   u'1.00',\n",
       "   u'0.00',\n",
       "   u'0.11',\n",
       "   u'0.00',\n",
       "   u'0.00',\n",
       "   u'0.00',\n",
       "   u'0.00',\n",
       "   u'0.00',\n",
       "   u'normal.'])]"
      ]
     },
     "execution_count": 5,
     "metadata": {},
     "output_type": "execute_result"
    }
   ],
   "source": [
    "key_value.take(1)"
   ]
  },
  {
   "cell_type": "code",
   "execution_count": 7,
   "metadata": {
    "collapsed": false
   },
   "outputs": [
    {
     "data": {
      "text/plain": [
       "[(u'guess_passwd.', 144.0),\n",
       " (u'nmap.', 0.0),\n",
       " (u'warezmaster.', 301.0),\n",
       " (u'rootkit.', 1008.0),\n",
       " (u'warezclient.', 627563.0),\n",
       " (u'smurf.', 0.0),\n",
       " (u'pod.', 0.0),\n",
       " (u'neptune.', 0.0),\n",
       " (u'normal.', 21075991.0),\n",
       " (u'spy.', 636.0),\n",
       " (u'ftp_write.', 259.0),\n",
       " (u'phf.', 18.0),\n",
       " (u'portsweep.', 1991911.0),\n",
       " (u'teardrop.', 0.0),\n",
       " (u'buffer_overflow.', 2751.0),\n",
       " (u'land.', 0.0),\n",
       " (u'imap.', 72.0),\n",
       " (u'loadmodule.', 326.0),\n",
       " (u'perl.', 124.0),\n",
       " (u'multihop.', 1288.0),\n",
       " (u'back.', 284.0),\n",
       " (u'ipsweep.', 43.0),\n",
       " (u'satan.', 64.0)]"
      ]
     },
     "execution_count": 7,
     "metadata": {},
     "output_type": "execute_result"
    }
   ],
   "source": [
    "# Get the duration for each tag\n",
    "key_value_duration = csv.map(lambda x: (x[41], float(x[0])))\n",
    "\n",
    "# Get total duration by key -- REDUCE_BY_KEY\n",
    "duration_by_key = key_value_duration.reduceByKey(lambda x, y: x+y)\n",
    "\n",
    "duration_by_key.collect()"
   ]
  },
  {
   "cell_type": "code",
   "execution_count": 8,
   "metadata": {
    "collapsed": false
   },
   "outputs": [
    {
     "data": {
      "text/plain": [
       "defaultdict(int,\n",
       "            {u'back.': 2203,\n",
       "             u'buffer_overflow.': 30,\n",
       "             u'ftp_write.': 8,\n",
       "             u'guess_passwd.': 53,\n",
       "             u'imap.': 12,\n",
       "             u'ipsweep.': 1247,\n",
       "             u'land.': 21,\n",
       "             u'loadmodule.': 9,\n",
       "             u'multihop.': 7,\n",
       "             u'neptune.': 107201,\n",
       "             u'nmap.': 231,\n",
       "             u'normal.': 97278,\n",
       "             u'perl.': 3,\n",
       "             u'phf.': 4,\n",
       "             u'pod.': 264,\n",
       "             u'portsweep.': 1040,\n",
       "             u'rootkit.': 10,\n",
       "             u'satan.': 1589,\n",
       "             u'smurf.': 280790,\n",
       "             u'spy.': 2,\n",
       "             u'teardrop.': 979,\n",
       "             u'warezclient.': 1020,\n",
       "             u'warezmaster.': 20})"
      ]
     },
     "execution_count": 8,
     "metadata": {},
     "output_type": "execute_result"
    }
   ],
   "source": [
    "# COUNT_BY_KEY example\n",
    "count_by_key = key_value.countByKey()\n",
    "count_by_key\n"
   ]
  },
  {
   "cell_type": "code",
   "execution_count": 9,
   "metadata": {
    "collapsed": false
   },
   "outputs": [
    {
     "data": {
      "text/plain": [
       "{u'back.': (284.0, 2203),\n",
       " u'buffer_overflow.': (2751.0, 30),\n",
       " u'ftp_write.': (259.0, 8),\n",
       " u'guess_passwd.': (144.0, 53),\n",
       " u'imap.': (72.0, 12),\n",
       " u'ipsweep.': (43.0, 1247),\n",
       " u'land.': (0.0, 21),\n",
       " u'loadmodule.': (326.0, 9),\n",
       " u'multihop.': (1288.0, 7),\n",
       " u'neptune.': (0.0, 107201),\n",
       " u'nmap.': (0.0, 231),\n",
       " u'normal.': (21075991.0, 97278),\n",
       " u'perl.': (124.0, 3),\n",
       " u'phf.': (18.0, 4),\n",
       " u'pod.': (0.0, 264),\n",
       " u'portsweep.': (1991911.0, 1040),\n",
       " u'rootkit.': (1008.0, 10),\n",
       " u'satan.': (64.0, 1589),\n",
       " u'smurf.': (0.0, 280790),\n",
       " u'spy.': (636.0, 2),\n",
       " u'teardrop.': (0.0, 979),\n",
       " u'warezclient.': (627563.0, 1020),\n",
       " u'warezmaster.': (301.0, 20)}"
      ]
     },
     "execution_count": 9,
     "metadata": {},
     "output_type": "execute_result"
    }
   ],
   "source": [
    "sum_counts = key_value_duration.combineByKey(\n",
    "    (lambda x: (x, 1)), # the initial value, with value x and count 1\n",
    "    (lambda acc, value: (acc[0]+value, acc[1]+1)), # how to combine a pair value with the accumulator: sum value, and increment count\n",
    "    (lambda acc1, acc2: (acc1[0]+acc2[0], acc1[1]+acc2[1])) # combine accumulators\n",
    ")\n",
    "\n",
    "sum_counts.collectAsMap()"
   ]
  },
  {
   "cell_type": "code",
   "execution_count": null,
   "metadata": {
    "collapsed": true
   },
   "outputs": [],
   "source": []
  }
 ],
 "metadata": {
  "kernelspec": {
   "display_name": "Python 2",
   "language": "python",
   "name": "python2"
  },
  "language_info": {
   "codemirror_mode": {
    "name": "ipython",
    "version": 2
   },
   "file_extension": ".py",
   "mimetype": "text/x-python",
   "name": "python",
   "nbconvert_exporter": "python",
   "pygments_lexer": "ipython2",
   "version": "2.7.11"
  }
 },
 "nbformat": 4,
 "nbformat_minor": 0
}
