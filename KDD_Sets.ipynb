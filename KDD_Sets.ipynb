{
 "cells": [
  {
   "cell_type": "code",
   "execution_count": 1,
   "metadata": {
    "collapsed": true
   },
   "outputs": [],
   "source": [
    "from pyspark import SparkContext, SparkConf\n",
    "import urllib\n",
    "\n",
    "f = urllib.urlretrieve(\"http://kdd.ics.uci.edu/databases/kddcup99/kddcup.data_10_percent.gz\", \"kddcup.data_10_percent.gz\")\n"
   ]
  },
  {
   "cell_type": "code",
   "execution_count": 2,
   "metadata": {
    "collapsed": false
   },
   "outputs": [],
   "source": [
    "# prepare the RDD\n",
    "data_file = \"./kddcup.data_10_percent.gz\"\n",
    "\n",
    "conf = SparkConf().setAppName(\"KDD_Sets\")\n",
    "sc = SparkContext(conf=conf)\n",
    "\n",
    "raw_data = sc.textFile(data_file)"
   ]
  },
  {
   "cell_type": "code",
   "execution_count": 3,
   "metadata": {
    "collapsed": true
   },
   "outputs": [],
   "source": [
    "# get the Normal interactions from the RDD\n",
    "normal = raw_data.filter(lambda x: 'normal.' in x)"
   ]
  },
  {
   "cell_type": "code",
   "execution_count": 4,
   "metadata": {
    "collapsed": true
   },
   "outputs": [],
   "source": [
    "# get the ATTACK interactions\n",
    "# We can simply subtract normal ones from raw\n",
    "attack = raw_data.subtract(normal)"
   ]
  },
  {
   "cell_type": "code",
   "execution_count": 7,
   "metadata": {
    "collapsed": false
   },
   "outputs": [
    {
     "name": "stdout",
     "output_type": "stream",
     "text": [
      "Total interactions = 494021\n",
      "Of which Normal interactions = 97278\n",
      "Of which Attack interactions = 396743\n",
      "Time taken to count and print - 23.0620000362 sec\n"
     ]
    }
   ],
   "source": [
    "from time import time\n",
    "\n",
    "t0=time()\n",
    "# print the results\n",
    "print \"Total interactions = {}\".format(raw_data.count())\n",
    "print \"Of which Normal interactions = {}\".format(normal.count())\n",
    "print \"Of which Attack interactions = {}\".format(attack.count())\n",
    "t1=time()\n",
    "print \"Time taken to count and print - {} sec\".format(t1-t0)"
   ]
  },
  {
   "cell_type": "code",
   "execution_count": 8,
   "metadata": {
    "collapsed": false
   },
   "outputs": [
    {
     "data": {
      "text/plain": [
       "[u'0,tcp,private,S0,0,0,0,0,0,0,0,0,0,0,0,0,0,0,0,0,0,0,244,2,1.00,1.00,0.00,0.00,0.01,0.06,0.00,255,2,0.01,0.08,0.00,0.00,1.00,1.00,0.00,0.00,neptune.',\n",
       " u'0,tcp,private,S0,0,0,0,0,0,0,0,0,0,0,0,0,0,0,0,0,0,0,244,2,1.00,1.00,0.00,0.00,0.01,0.06,0.00,255,2,0.01,0.08,0.00,0.00,1.00,1.00,0.00,0.00,neptune.',\n",
       " u'0,tcp,private,S0,0,0,0,0,0,0,0,0,0,0,0,0,0,0,0,0,0,0,280,7,1.00,1.00,0.00,0.00,0.03,0.05,0.00,255,7,0.03,0.05,0.00,0.00,1.00,1.00,0.00,0.00,neptune.',\n",
       " u'0,tcp,private,S0,0,0,0,0,0,0,0,0,0,0,0,0,0,0,0,0,0,0,280,7,1.00,1.00,0.00,0.00,0.03,0.05,0.00,255,7,0.03,0.05,0.00,0.00,1.00,1.00,0.00,0.00,neptune.',\n",
       " u'0,tcp,private,S0,0,0,0,0,0,0,0,0,0,0,0,0,0,0,0,0,0,0,280,7,1.00,1.00,0.00,0.00,0.03,0.05,0.00,255,7,0.03,0.05,0.00,0.00,1.00,1.00,0.00,0.00,neptune.',\n",
       " u'0,tcp,private,S0,0,0,0,0,0,0,0,0,0,0,0,0,0,0,0,0,0,0,280,7,1.00,1.00,0.00,0.00,0.03,0.05,0.00,255,7,0.03,0.05,0.00,0.00,1.00,1.00,0.00,0.00,neptune.',\n",
       " u'0,tcp,private,S0,0,0,0,0,0,0,0,0,0,0,0,0,0,0,0,0,0,0,280,7,1.00,1.00,0.00,0.00,0.03,0.05,0.00,255,7,0.03,0.05,0.00,0.00,1.00,1.00,0.00,0.00,neptune.',\n",
       " u'0,tcp,private,REJ,0,0,0,0,0,0,0,0,0,0,0,0,0,0,0,0,0,0,1,1,0.00,0.00,1.00,1.00,1.00,0.00,0.00,21,2,0.05,1.00,0.05,1.00,0.00,0.00,0.81,1.00,ipsweep.']"
      ]
     },
     "execution_count": 8,
     "metadata": {},
     "output_type": "execute_result"
    }
   ],
   "source": [
    "attack.take(8)"
   ]
  },
  {
   "cell_type": "code",
   "execution_count": 9,
   "metadata": {
    "collapsed": false
   },
   "outputs": [
    {
     "data": {
      "text/plain": [
       "[u'udp', u'icmp', u'tcp']"
      ]
     },
     "execution_count": 9,
     "metadata": {},
     "output_type": "execute_result"
    }
   ],
   "source": [
    "# we generate all the possible combinations between service and protocol in our network interactions\n",
    "# In the file protocol is col 2 and service is col 3\n",
    "csv = raw_data.map( lambda x : x.split(','))\n",
    "protocol = csv.map(lambda x: x[1]).distinct()\n",
    "protocol.collect()\n"
   ]
  },
  {
   "cell_type": "code",
   "execution_count": 11,
   "metadata": {
    "collapsed": false
   },
   "outputs": [
    {
     "data": {
      "text/plain": [
       "[u'domain',\n",
       " u'http_443',\n",
       " u'Z39_50',\n",
       " u'smtp',\n",
       " u'urp_i',\n",
       " u'private',\n",
       " u'echo',\n",
       " u'shell',\n",
       " u'red_i',\n",
       " u'eco_i',\n",
       " u'sunrpc',\n",
       " u'ftp_data',\n",
       " u'urh_i',\n",
       " u'pm_dump',\n",
       " u'pop_3',\n",
       " u'pop_2',\n",
       " u'systat',\n",
       " u'ftp',\n",
       " u'uucp',\n",
       " u'whois',\n",
       " u'netbios_dgm',\n",
       " u'efs',\n",
       " u'remote_job',\n",
       " u'daytime',\n",
       " u'ntp_u',\n",
       " u'finger',\n",
       " u'ldap',\n",
       " u'netbios_ns',\n",
       " u'kshell',\n",
       " u'iso_tsap',\n",
       " u'ecr_i',\n",
       " u'nntp',\n",
       " u'printer',\n",
       " u'domain_u',\n",
       " u'uucp_path',\n",
       " u'courier',\n",
       " u'exec',\n",
       " u'time',\n",
       " u'netstat',\n",
       " u'telnet',\n",
       " u'gopher',\n",
       " u'rje',\n",
       " u'sql_net',\n",
       " u'link',\n",
       " u'auth',\n",
       " u'netbios_ssn',\n",
       " u'csnet_ns',\n",
       " u'X11',\n",
       " u'IRC',\n",
       " u'tftp_u',\n",
       " u'login',\n",
       " u'supdup',\n",
       " u'name',\n",
       " u'nnsp',\n",
       " u'mtp',\n",
       " u'http',\n",
       " u'bgp',\n",
       " u'ctf',\n",
       " u'hostnames',\n",
       " u'klogin',\n",
       " u'vmnet',\n",
       " u'tim_i',\n",
       " u'discard',\n",
       " u'imap4',\n",
       " u'other',\n",
       " u'ssh']"
      ]
     },
     "execution_count": 11,
     "metadata": {},
     "output_type": "execute_result"
    }
   ],
   "source": [
    "# Now same for services\n",
    "service = csv.map(lambda x: x[2]).distinct()\n",
    "service.collect()"
   ]
  },
  {
   "cell_type": "code",
   "execution_count": 13,
   "metadata": {
    "collapsed": false
   },
   "outputs": [
    {
     "name": "stdout",
     "output_type": "stream",
     "text": [
      "There are 198 combinations of protocol and service\n"
     ]
    }
   ],
   "source": [
    "# Now to generate all combos of protocol and service we can do CARTESIAN product\n",
    "product = protocol.cartesian(service).collect()\n",
    "print \"There are {} combinations of protocol and service\".format(len(product))"
   ]
  },
  {
   "cell_type": "code",
   "execution_count": null,
   "metadata": {
    "collapsed": true
   },
   "outputs": [],
   "source": []
  }
 ],
 "metadata": {
  "kernelspec": {
   "display_name": "Python 2",
   "language": "python",
   "name": "python2"
  },
  "language_info": {
   "codemirror_mode": {
    "name": "ipython",
    "version": 2
   },
   "file_extension": ".py",
   "mimetype": "text/x-python",
   "name": "python",
   "nbconvert_exporter": "python",
   "pygments_lexer": "ipython2",
   "version": "2.7.11"
  }
 },
 "nbformat": 4,
 "nbformat_minor": 0
}
