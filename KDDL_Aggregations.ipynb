{
 "cells": [
  {
   "cell_type": "code",
   "execution_count": 1,
   "metadata": {
    "collapsed": true
   },
   "outputs": [],
   "source": [
    "\n",
    "from pyspark import SparkContext, SparkConf\n",
    "import urllib\n",
    "\n",
    "f = urllib.urlretrieve(\"http://kdd.ics.uci.edu/databases/kddcup99/kddcup.data_10_percent.gz\", \"kddcup.data_10_percent.gz\")"
   ]
  },
  {
   "cell_type": "code",
   "execution_count": 2,
   "metadata": {
    "collapsed": true
   },
   "outputs": [],
   "source": [
    "# prepare the RDD\n",
    "data_file = \"./kddcup.data_10_percent.gz\"\n",
    "\n",
    "conf = SparkConf().setAppName(\"KDD_Aggregations\")\n",
    "sc = SparkContext(conf=conf)\n",
    "\n",
    "raw_data = sc.textFile(data_file)"
   ]
  },
  {
   "cell_type": "code",
   "execution_count": 3,
   "metadata": {
    "collapsed": true
   },
   "outputs": [],
   "source": [
    "# get the data in csv\n",
    "csv = raw_data.map(lambda x: x.split(','))\n",
    "\n",
    "# separate the attack and normal csvs\n",
    "normal_csv = csv.filter(lambda x: x[41] == 'normal.')\n",
    "attack_csv = csv.filter(lambda x: x[41] != 'normal.')"
   ]
  },
  {
   "cell_type": "code",
   "execution_count": 10,
   "metadata": {
    "collapsed": true
   },
   "outputs": [],
   "source": [
    "# get the durations\n",
    "normal_duration = normal_csv.map(lambda x: int(x[0]))\n",
    "attack_duration = attack_csv.map(lambda x: int(x[0]))"
   ]
  },
  {
   "cell_type": "code",
   "execution_count": 11,
   "metadata": {
    "collapsed": false
   },
   "outputs": [
    {
     "name": "stdout",
     "output_type": "stream",
     "text": [
      "Total duration for 'normal' interactions is 21075991\n",
      "Total duration for 'attack' interactions is 2626792\n"
     ]
    }
   ],
   "source": [
    "# we can now REDUCE\n",
    "total_normal_duration = normal_duration.reduce(lambda x,y: x+y)\n",
    "total_attack_duration = attack_duration.reduce(lambda x,y: x+y)\n",
    "\n",
    "print \"Total duration for 'normal' interactions is {}\".format(total_normal_duration)\n",
    "print \"Total duration for 'attack' interactions is {}\".format(total_attack_duration)"
   ]
  },
  {
   "cell_type": "code",
   "execution_count": 13,
   "metadata": {
    "collapsed": false
   },
   "outputs": [
    {
     "name": "stdout",
     "output_type": "stream",
     "text": [
      "Mean duration of attack is = 6.62089060172\n",
      "Mean duration of normal interaction is = 216.657322313\n"
     ]
    }
   ],
   "source": [
    "# What is the mean duration of normal and attack\n",
    "# Mean is total normal/count(normal) . same for attack\n",
    "count_normal = normal_duration.count()\n",
    "count_attack = attack_duration.count()\n",
    "\n",
    "mean_normal = total_normal_duration / float(count_normal)\n",
    "mean_attack = total_attack_duration / float(count_attack)\n",
    "\n",
    "print \"Mean duration of attack is = {}\".format(mean_attack)\n",
    "print \"Mean duration of normal interaction is = {}\".format(mean_normal)"
   ]
  },
  {
   "cell_type": "code",
   "execution_count": 14,
   "metadata": {
    "collapsed": false
   },
   "outputs": [
    {
     "name": "stdout",
     "output_type": "stream",
     "text": [
      "Mean duration for 'normal' interactions is 216.657\n"
     ]
    }
   ],
   "source": [
    "# Now calculate the means using aggregate function\n",
    "normal_sum_count = normal_duration.aggregate(\n",
    "    (0,0), # the initial value\n",
    "    (lambda acc, value: (acc[0] + value, acc[1] + 1)), # combine value with acc\n",
    "    (lambda acc1, acc2: (acc1[0] + acc2[0], acc1[1] + acc2[1])) # combine accumulators\n",
    ")\n",
    "\n",
    "print \"Mean duration for 'normal' interactions is {}\".\\\n",
    "    format(round(normal_sum_count[0]/float(normal_sum_count[1]),3))"
   ]
  },
  {
   "cell_type": "code",
   "execution_count": 16,
   "metadata": {
    "collapsed": false
   },
   "outputs": [
    {
     "name": "stdout",
     "output_type": "stream",
     "text": [
      "Mean duration for 'attack' interactions is 6.621\n"
     ]
    }
   ],
   "source": [
    "# same for attack\n",
    "attack_sum_count = attack_duration.aggregate(\n",
    "    (0,0), # the initial value\n",
    "    (lambda acc, value: (acc[0] + value, acc[1] + 1)), # combine value with acc\n",
    "    (lambda acc1, acc2: (acc1[0] + acc2[0], acc1[1] + acc2[1])) # combine accumulators\n",
    ")\n",
    "\n",
    "print \"Mean duration for 'attack' interactions is {}\".\\\n",
    "    format(round(attack_sum_count[0]/float(attack_sum_count[1]),3))"
   ]
  },
  {
   "cell_type": "code",
   "execution_count": null,
   "metadata": {
    "collapsed": true
   },
   "outputs": [],
   "source": []
  }
 ],
 "metadata": {
  "kernelspec": {
   "display_name": "Python 2",
   "language": "python",
   "name": "python2"
  },
  "language_info": {
   "codemirror_mode": {
    "name": "ipython",
    "version": 2
   },
   "file_extension": ".py",
   "mimetype": "text/x-python",
   "name": "python",
   "nbconvert_exporter": "python",
   "pygments_lexer": "ipython2",
   "version": "2.7.11"
  }
 },
 "nbformat": 4,
 "nbformat_minor": 0
}
