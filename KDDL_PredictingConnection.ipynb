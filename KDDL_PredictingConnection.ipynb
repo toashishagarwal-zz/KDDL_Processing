{
 "cells": [
  {
   "cell_type": "code",
   "execution_count": 7,
   "metadata": {
    "collapsed": true
   },
   "outputs": [],
   "source": [
    "# Get the KDDL Data. We are dealing with only 10% of data\n",
    "import urllib\n",
    "\n",
    "f = urllib.urlretrieve(\"http://kdd.ics.uci.edu/databases/kddcup99/kddcup.data_10_percent.gz\", \"kddcup.data_10_percent.gz\")\n"
   ]
  },
  {
   "cell_type": "code",
   "execution_count": 14,
   "metadata": {
    "collapsed": false
   },
   "outputs": [],
   "source": [
    "# prepare the RDD\n",
    "data_file = \"./kddcup.data_10_percent.gz\"\n",
    "\n",
    "raw_data = sc.textFile(data_file)"
   ]
  },
  {
   "cell_type": "code",
   "execution_count": 16,
   "metadata": {
    "collapsed": false
   },
   "outputs": [
    {
     "data": {
      "text/plain": [
       "494021"
      ]
     },
     "execution_count": 16,
     "metadata": {},
     "output_type": "execute_result"
    }
   ],
   "source": [
    "# count the no. of records\n",
    "raw_data.count()"
   ]
  },
  {
   "cell_type": "code",
   "execution_count": 17,
   "metadata": {
    "collapsed": false
   },
   "outputs": [
    {
     "data": {
      "text/plain": [
       "[u'0,tcp,http,SF,181,5450,0,0,0,0,0,1,0,0,0,0,0,0,0,0,0,0,8,8,0.00,0.00,0.00,0.00,1.00,0.00,0.00,9,9,1.00,0.00,0.11,0.00,0.00,0.00,0.00,0.00,normal.',\n",
       " u'0,tcp,http,SF,239,486,0,0,0,0,0,1,0,0,0,0,0,0,0,0,0,0,8,8,0.00,0.00,0.00,0.00,1.00,0.00,0.00,19,19,1.00,0.00,0.05,0.00,0.00,0.00,0.00,0.00,normal.',\n",
       " u'0,tcp,http,SF,235,1337,0,0,0,0,0,1,0,0,0,0,0,0,0,0,0,0,8,8,0.00,0.00,0.00,0.00,1.00,0.00,0.00,29,29,1.00,0.00,0.03,0.00,0.00,0.00,0.00,0.00,normal.']"
      ]
     },
     "execution_count": 17,
     "metadata": {},
     "output_type": "execute_result"
    }
   ],
   "source": [
    "# Peep into the sample 3 records\n",
    "raw_data.take(3)"
   ]
  },
  {
   "cell_type": "code",
   "execution_count": 18,
   "metadata": {
    "collapsed": false
   },
   "outputs": [
    {
     "data": {
      "text/plain": [
       "[u'0,tcp,http,SF,181,5450,0,0,0,0,0,1,0,0,0,0,0,0,0,0,0,0,8,8,0.00,0.00,0.00,0.00,1.00,0.00,0.00,9,9,1.00,0.00,0.11,0.00,0.00,0.00,0.00,0.00,normal.',\n",
       " u'0,tcp,http,SF,239,486,0,0,0,0,0,1,0,0,0,0,0,0,0,0,0,0,8,8,0.00,0.00,0.00,0.00,1.00,0.00,0.00,19,19,1.00,0.00,0.05,0.00,0.00,0.00,0.00,0.00,normal.',\n",
       " u'0,tcp,http,SF,235,1337,0,0,0,0,0,1,0,0,0,0,0,0,0,0,0,0,8,8,0.00,0.00,0.00,0.00,1.00,0.00,0.00,29,29,1.00,0.00,0.03,0.00,0.00,0.00,0.00,0.00,normal.',\n",
       " u'0,tcp,http,SF,219,1337,0,0,0,0,0,1,0,0,0,0,0,0,0,0,0,0,6,6,0.00,0.00,0.00,0.00,1.00,0.00,0.00,39,39,1.00,0.00,0.03,0.00,0.00,0.00,0.00,0.00,normal.',\n",
       " u'0,tcp,http,SF,217,2032,0,0,0,0,0,1,0,0,0,0,0,0,0,0,0,0,6,6,0.00,0.00,0.00,0.00,1.00,0.00,0.00,49,49,1.00,0.00,0.02,0.00,0.00,0.00,0.00,0.00,normal.',\n",
       " u'0,tcp,http,SF,217,2032,0,0,0,0,0,1,0,0,0,0,0,0,0,0,0,0,6,6,0.00,0.00,0.00,0.00,1.00,0.00,0.00,59,59,1.00,0.00,0.02,0.00,0.00,0.00,0.00,0.00,normal.']"
      ]
     },
     "execution_count": 18,
     "metadata": {},
     "output_type": "execute_result"
    }
   ],
   "source": [
    "raw_data.take(6)"
   ]
  },
  {
   "cell_type": "code",
   "execution_count": 29,
   "metadata": {
    "collapsed": false
   },
   "outputs": [],
   "source": [
    "# Get me only the records which are 'normal'\n",
    "normalInteractions = raw_data.filter(lambda x: 'normal.' in x)\n"
   ]
  },
  {
   "cell_type": "code",
   "execution_count": 30,
   "metadata": {
    "collapsed": false
   },
   "outputs": [
    {
     "data": {
      "text/plain": [
       "97278"
      ]
     },
     "execution_count": 30,
     "metadata": {},
     "output_type": "execute_result"
    }
   ],
   "source": [
    "# count the number of normal records\n",
    "normalInteractions.count()\n"
   ]
  },
  {
   "cell_type": "code",
   "execution_count": 31,
   "metadata": {
    "collapsed": true
   },
   "outputs": [],
   "source": [
    "# convert the raw data into CSV\n",
    "\n",
    "csv_data = raw_data.map(lambda x: x.split(','))\n",
    "top5rows = csv_data.take(5)\n"
   ]
  },
  {
   "cell_type": "code",
   "execution_count": 32,
   "metadata": {
    "collapsed": false
   },
   "outputs": [
    {
     "data": {
      "text/plain": [
       "[[u'0',\n",
       "  u'tcp',\n",
       "  u'http',\n",
       "  u'SF',\n",
       "  u'181',\n",
       "  u'5450',\n",
       "  u'0',\n",
       "  u'0',\n",
       "  u'0',\n",
       "  u'0',\n",
       "  u'0',\n",
       "  u'1',\n",
       "  u'0',\n",
       "  u'0',\n",
       "  u'0',\n",
       "  u'0',\n",
       "  u'0',\n",
       "  u'0',\n",
       "  u'0',\n",
       "  u'0',\n",
       "  u'0',\n",
       "  u'0',\n",
       "  u'8',\n",
       "  u'8',\n",
       "  u'0.00',\n",
       "  u'0.00',\n",
       "  u'0.00',\n",
       "  u'0.00',\n",
       "  u'1.00',\n",
       "  u'0.00',\n",
       "  u'0.00',\n",
       "  u'9',\n",
       "  u'9',\n",
       "  u'1.00',\n",
       "  u'0.00',\n",
       "  u'0.11',\n",
       "  u'0.00',\n",
       "  u'0.00',\n",
       "  u'0.00',\n",
       "  u'0.00',\n",
       "  u'0.00',\n",
       "  u'normal.'],\n",
       " [u'0',\n",
       "  u'tcp',\n",
       "  u'http',\n",
       "  u'SF',\n",
       "  u'239',\n",
       "  u'486',\n",
       "  u'0',\n",
       "  u'0',\n",
       "  u'0',\n",
       "  u'0',\n",
       "  u'0',\n",
       "  u'1',\n",
       "  u'0',\n",
       "  u'0',\n",
       "  u'0',\n",
       "  u'0',\n",
       "  u'0',\n",
       "  u'0',\n",
       "  u'0',\n",
       "  u'0',\n",
       "  u'0',\n",
       "  u'0',\n",
       "  u'8',\n",
       "  u'8',\n",
       "  u'0.00',\n",
       "  u'0.00',\n",
       "  u'0.00',\n",
       "  u'0.00',\n",
       "  u'1.00',\n",
       "  u'0.00',\n",
       "  u'0.00',\n",
       "  u'19',\n",
       "  u'19',\n",
       "  u'1.00',\n",
       "  u'0.00',\n",
       "  u'0.05',\n",
       "  u'0.00',\n",
       "  u'0.00',\n",
       "  u'0.00',\n",
       "  u'0.00',\n",
       "  u'0.00',\n",
       "  u'normal.'],\n",
       " [u'0',\n",
       "  u'tcp',\n",
       "  u'http',\n",
       "  u'SF',\n",
       "  u'235',\n",
       "  u'1337',\n",
       "  u'0',\n",
       "  u'0',\n",
       "  u'0',\n",
       "  u'0',\n",
       "  u'0',\n",
       "  u'1',\n",
       "  u'0',\n",
       "  u'0',\n",
       "  u'0',\n",
       "  u'0',\n",
       "  u'0',\n",
       "  u'0',\n",
       "  u'0',\n",
       "  u'0',\n",
       "  u'0',\n",
       "  u'0',\n",
       "  u'8',\n",
       "  u'8',\n",
       "  u'0.00',\n",
       "  u'0.00',\n",
       "  u'0.00',\n",
       "  u'0.00',\n",
       "  u'1.00',\n",
       "  u'0.00',\n",
       "  u'0.00',\n",
       "  u'29',\n",
       "  u'29',\n",
       "  u'1.00',\n",
       "  u'0.00',\n",
       "  u'0.03',\n",
       "  u'0.00',\n",
       "  u'0.00',\n",
       "  u'0.00',\n",
       "  u'0.00',\n",
       "  u'0.00',\n",
       "  u'normal.'],\n",
       " [u'0',\n",
       "  u'tcp',\n",
       "  u'http',\n",
       "  u'SF',\n",
       "  u'219',\n",
       "  u'1337',\n",
       "  u'0',\n",
       "  u'0',\n",
       "  u'0',\n",
       "  u'0',\n",
       "  u'0',\n",
       "  u'1',\n",
       "  u'0',\n",
       "  u'0',\n",
       "  u'0',\n",
       "  u'0',\n",
       "  u'0',\n",
       "  u'0',\n",
       "  u'0',\n",
       "  u'0',\n",
       "  u'0',\n",
       "  u'0',\n",
       "  u'6',\n",
       "  u'6',\n",
       "  u'0.00',\n",
       "  u'0.00',\n",
       "  u'0.00',\n",
       "  u'0.00',\n",
       "  u'1.00',\n",
       "  u'0.00',\n",
       "  u'0.00',\n",
       "  u'39',\n",
       "  u'39',\n",
       "  u'1.00',\n",
       "  u'0.00',\n",
       "  u'0.03',\n",
       "  u'0.00',\n",
       "  u'0.00',\n",
       "  u'0.00',\n",
       "  u'0.00',\n",
       "  u'0.00',\n",
       "  u'normal.'],\n",
       " [u'0',\n",
       "  u'tcp',\n",
       "  u'http',\n",
       "  u'SF',\n",
       "  u'217',\n",
       "  u'2032',\n",
       "  u'0',\n",
       "  u'0',\n",
       "  u'0',\n",
       "  u'0',\n",
       "  u'0',\n",
       "  u'1',\n",
       "  u'0',\n",
       "  u'0',\n",
       "  u'0',\n",
       "  u'0',\n",
       "  u'0',\n",
       "  u'0',\n",
       "  u'0',\n",
       "  u'0',\n",
       "  u'0',\n",
       "  u'0',\n",
       "  u'6',\n",
       "  u'6',\n",
       "  u'0.00',\n",
       "  u'0.00',\n",
       "  u'0.00',\n",
       "  u'0.00',\n",
       "  u'1.00',\n",
       "  u'0.00',\n",
       "  u'0.00',\n",
       "  u'49',\n",
       "  u'49',\n",
       "  u'1.00',\n",
       "  u'0.00',\n",
       "  u'0.02',\n",
       "  u'0.00',\n",
       "  u'0.00',\n",
       "  u'0.00',\n",
       "  u'0.00',\n",
       "  u'0.00',\n",
       "  u'normal.']]"
      ]
     },
     "execution_count": 32,
     "metadata": {},
     "output_type": "execute_result"
    }
   ],
   "source": [
    "top5rows"
   ]
  },
  {
   "cell_type": "code",
   "execution_count": 33,
   "metadata": {
    "collapsed": false
   },
   "outputs": [
    {
     "data": {
      "text/plain": [
       "[u'0',\n",
       " u'tcp',\n",
       " u'http',\n",
       " u'SF',\n",
       " u'181',\n",
       " u'5450',\n",
       " u'0',\n",
       " u'0',\n",
       " u'0',\n",
       " u'0',\n",
       " u'0',\n",
       " u'1',\n",
       " u'0',\n",
       " u'0',\n",
       " u'0',\n",
       " u'0',\n",
       " u'0',\n",
       " u'0',\n",
       " u'0',\n",
       " u'0',\n",
       " u'0',\n",
       " u'0',\n",
       " u'8',\n",
       " u'8',\n",
       " u'0.00',\n",
       " u'0.00',\n",
       " u'0.00',\n",
       " u'0.00',\n",
       " u'1.00',\n",
       " u'0.00',\n",
       " u'0.00',\n",
       " u'9',\n",
       " u'9',\n",
       " u'1.00',\n",
       " u'0.00',\n",
       " u'0.11',\n",
       " u'0.00',\n",
       " u'0.00',\n",
       " u'0.00',\n",
       " u'0.00',\n",
       " u'0.00',\n",
       " u'normal.']"
      ]
     },
     "execution_count": 33,
     "metadata": {},
     "output_type": "execute_result"
    }
   ],
   "source": [
    "top5rows[0]"
   ]
  },
  {
   "cell_type": "code",
   "execution_count": 39,
   "metadata": {
    "collapsed": false
   },
   "outputs": [
    {
     "data": {
      "text/plain": [
       "(u'normal.',\n",
       " [u'0',\n",
       "  u'tcp',\n",
       "  u'http',\n",
       "  u'SF',\n",
       "  u'181',\n",
       "  u'5450',\n",
       "  u'0',\n",
       "  u'0',\n",
       "  u'0',\n",
       "  u'0',\n",
       "  u'0',\n",
       "  u'1',\n",
       "  u'0',\n",
       "  u'0',\n",
       "  u'0',\n",
       "  u'0',\n",
       "  u'0',\n",
       "  u'0',\n",
       "  u'0',\n",
       "  u'0',\n",
       "  u'0',\n",
       "  u'0',\n",
       "  u'8',\n",
       "  u'8',\n",
       "  u'0.00',\n",
       "  u'0.00',\n",
       "  u'0.00',\n",
       "  u'0.00',\n",
       "  u'1.00',\n",
       "  u'0.00',\n",
       "  u'0.00',\n",
       "  u'9',\n",
       "  u'9',\n",
       "  u'1.00',\n",
       "  u'0.00',\n",
       "  u'0.11',\n",
       "  u'0.00',\n",
       "  u'0.00',\n",
       "  u'0.00',\n",
       "  u'0.00',\n",
       "  u'0.00',\n",
       "  u'normal.'])"
      ]
     },
     "execution_count": 39,
     "metadata": {},
     "output_type": "execute_result"
    }
   ],
   "source": [
    "# prepare a key-value pair of the raw data \n",
    "# where key = tag name e.g. normal.\n",
    "#       value = csv list of elements\n",
    "\n",
    "def parse_lines(line):\n",
    "    elements = line.split(',')\n",
    "    tag = elements[41]\n",
    "    return (tag , elements)\n",
    "\n",
    "key_csv_data = raw_data.map(parse_lines)\n",
    "head_rows = key_csv_data.take(5)\n",
    "head_rows[0]"
   ]
  },
  {
   "cell_type": "code",
   "execution_count": null,
   "metadata": {
    "collapsed": true
   },
   "outputs": [],
   "source": []
  }
 ],
 "metadata": {
  "kernelspec": {
   "display_name": "Python 2",
   "language": "python",
   "name": "python2"
  },
  "language_info": {
   "codemirror_mode": {
    "name": "ipython",
    "version": 2
   },
   "file_extension": ".py",
   "mimetype": "text/x-python",
   "name": "python",
   "nbconvert_exporter": "python",
   "pygments_lexer": "ipython2",
   "version": "2.7.11"
  }
 },
 "nbformat": 4,
 "nbformat_minor": 0
}
